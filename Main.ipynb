{
 "cells": [
  {
   "cell_type": "markdown",
   "metadata": {},
   "source": [
    "# Ghouls_Goblins_Ghosts\n",
    "\n",
    "**Challange (as listed on kaggle.com):**  \n",
    "Get out your dowsing rods, electromagnetic sensors, and gradient boosting machines. Kaggle is haunted and we need your help. After a month of making scientific observations and taking careful measurements, we’ve determined that 900 ghouls, ghosts, and goblins are infesting our halls and frightening our data scientists. When trying garlic, asking politely, and using reverse psychology didn't work, it became clear that machine learning is the only answer to banishing our unwanted guests.\n",
    "\n",
    "So now the hour has come to put the data we’ve collected in your hands. We’ve managed to identify 371 of the ghastly creatures, but need your help to vanquish the rest. And only an accurate classification algorithm can thwart them. Use bone length measurements, severity of rot, extent of soullessness, and other characteristics to distinguish (and extinguish) the intruders. Are you ghost-busters up for the challenge?\n",
    "\n",
    "**Solution:**  \n",
    "I will tackle this problem in two parts. i) Exploratory data analysis for in-depth understanding of the features of the data using *pandas*, *matplotlib* and *seaborn* libraries. ii) Applying different machine learning alogrithms/techniquies using *scikit-learn* library"
   ]
  },
  {
   "cell_type": "markdown",
   "metadata": {},
   "source": [
    "# Part 1: Exploratory Data Analysis"
   ]
  },
  {
   "cell_type": "markdown",
   "metadata": {},
   "source": [
    "Importing dependencies"
   ]
  },
  {
   "cell_type": "code",
   "execution_count": 57,
   "metadata": {
    "collapsed": true
   },
   "outputs": [],
   "source": [
    "import pandas as pd\n",
    "import numpy as np\n",
    "import matplotlib.pyplot as plt\n",
    "import seaborn as sns\n",
    "%matplotlib inline  "
   ]
  },
  {
   "cell_type": "markdown",
   "metadata": {},
   "source": [
    "Importing training and test data (index of the dataset is set as the id of the creature) "
   ]
  },
  {
   "cell_type": "code",
   "execution_count": 5,
   "metadata": {
    "collapsed": true
   },
   "outputs": [],
   "source": [
    "train = pd.read_csv('train.csv', index_col = 'id')\n",
    "test = pd.read_csv('test.csv', index_col = 'id')"
   ]
  },
  {
   "cell_type": "markdown",
   "metadata": {},
   "source": [
    "Data Fields:  \n",
    "*id* - id of the creature  \n",
    "*bone_length* - average length of bone in the creature, normalized between 0 and 1  \n",
    "*rotting_flesh* - percentage of rotting flesh in the creature  \n",
    "*hair_length* - average hair length, normalized between 0 and 1  \n",
    "*has_soul* - percentage of soul in the creature  \n",
    "*color* - dominant color of the creature: 'white','black','clear','blue','green','blood'  \n",
    "*type* - target variable: 'Ghost', 'Goblin', and 'Ghoul'"
   ]
  },
  {
   "cell_type": "code",
   "execution_count": 6,
   "metadata": {},
   "outputs": [
    {
     "data": {
      "text/html": [
       "<div>\n",
       "<style>\n",
       "    .dataframe thead tr:only-child th {\n",
       "        text-align: right;\n",
       "    }\n",
       "\n",
       "    .dataframe thead th {\n",
       "        text-align: left;\n",
       "    }\n",
       "\n",
       "    .dataframe tbody tr th {\n",
       "        vertical-align: top;\n",
       "    }\n",
       "</style>\n",
       "<table border=\"1\" class=\"dataframe\">\n",
       "  <thead>\n",
       "    <tr style=\"text-align: right;\">\n",
       "      <th></th>\n",
       "      <th>bone_length</th>\n",
       "      <th>rotting_flesh</th>\n",
       "      <th>hair_length</th>\n",
       "      <th>has_soul</th>\n",
       "      <th>color</th>\n",
       "      <th>type</th>\n",
       "    </tr>\n",
       "    <tr>\n",
       "      <th>id</th>\n",
       "      <th></th>\n",
       "      <th></th>\n",
       "      <th></th>\n",
       "      <th></th>\n",
       "      <th></th>\n",
       "      <th></th>\n",
       "    </tr>\n",
       "  </thead>\n",
       "  <tbody>\n",
       "    <tr>\n",
       "      <th>0</th>\n",
       "      <td>0.354512</td>\n",
       "      <td>0.350839</td>\n",
       "      <td>0.465761</td>\n",
       "      <td>0.781142</td>\n",
       "      <td>clear</td>\n",
       "      <td>Ghoul</td>\n",
       "    </tr>\n",
       "    <tr>\n",
       "      <th>1</th>\n",
       "      <td>0.575560</td>\n",
       "      <td>0.425868</td>\n",
       "      <td>0.531401</td>\n",
       "      <td>0.439899</td>\n",
       "      <td>green</td>\n",
       "      <td>Goblin</td>\n",
       "    </tr>\n",
       "    <tr>\n",
       "      <th>2</th>\n",
       "      <td>0.467875</td>\n",
       "      <td>0.354330</td>\n",
       "      <td>0.811616</td>\n",
       "      <td>0.791225</td>\n",
       "      <td>black</td>\n",
       "      <td>Ghoul</td>\n",
       "    </tr>\n",
       "    <tr>\n",
       "      <th>4</th>\n",
       "      <td>0.776652</td>\n",
       "      <td>0.508723</td>\n",
       "      <td>0.636766</td>\n",
       "      <td>0.884464</td>\n",
       "      <td>black</td>\n",
       "      <td>Ghoul</td>\n",
       "    </tr>\n",
       "    <tr>\n",
       "      <th>5</th>\n",
       "      <td>0.566117</td>\n",
       "      <td>0.875862</td>\n",
       "      <td>0.418594</td>\n",
       "      <td>0.636438</td>\n",
       "      <td>green</td>\n",
       "      <td>Ghost</td>\n",
       "    </tr>\n",
       "  </tbody>\n",
       "</table>\n",
       "</div>"
      ],
      "text/plain": [
       "    bone_length  rotting_flesh  hair_length  has_soul  color    type\n",
       "id                                                                  \n",
       "0      0.354512       0.350839     0.465761  0.781142  clear   Ghoul\n",
       "1      0.575560       0.425868     0.531401  0.439899  green  Goblin\n",
       "2      0.467875       0.354330     0.811616  0.791225  black   Ghoul\n",
       "4      0.776652       0.508723     0.636766  0.884464  black   Ghoul\n",
       "5      0.566117       0.875862     0.418594  0.636438  green   Ghost"
      ]
     },
     "execution_count": 6,
     "metadata": {},
     "output_type": "execute_result"
    }
   ],
   "source": [
    "train.head()"
   ]
  },
  {
   "cell_type": "code",
   "execution_count": 7,
   "metadata": {},
   "outputs": [
    {
     "data": {
      "text/html": [
       "<div>\n",
       "<style>\n",
       "    .dataframe thead tr:only-child th {\n",
       "        text-align: right;\n",
       "    }\n",
       "\n",
       "    .dataframe thead th {\n",
       "        text-align: left;\n",
       "    }\n",
       "\n",
       "    .dataframe tbody tr th {\n",
       "        vertical-align: top;\n",
       "    }\n",
       "</style>\n",
       "<table border=\"1\" class=\"dataframe\">\n",
       "  <thead>\n",
       "    <tr style=\"text-align: right;\">\n",
       "      <th></th>\n",
       "      <th>bone_length</th>\n",
       "      <th>rotting_flesh</th>\n",
       "      <th>hair_length</th>\n",
       "      <th>has_soul</th>\n",
       "    </tr>\n",
       "  </thead>\n",
       "  <tbody>\n",
       "    <tr>\n",
       "      <th>count</th>\n",
       "      <td>371.000000</td>\n",
       "      <td>371.000000</td>\n",
       "      <td>371.000000</td>\n",
       "      <td>371.000000</td>\n",
       "    </tr>\n",
       "    <tr>\n",
       "      <th>mean</th>\n",
       "      <td>0.434160</td>\n",
       "      <td>0.506848</td>\n",
       "      <td>0.529114</td>\n",
       "      <td>0.471392</td>\n",
       "    </tr>\n",
       "    <tr>\n",
       "      <th>std</th>\n",
       "      <td>0.132833</td>\n",
       "      <td>0.146358</td>\n",
       "      <td>0.169902</td>\n",
       "      <td>0.176129</td>\n",
       "    </tr>\n",
       "    <tr>\n",
       "      <th>min</th>\n",
       "      <td>0.061032</td>\n",
       "      <td>0.095687</td>\n",
       "      <td>0.134600</td>\n",
       "      <td>0.009402</td>\n",
       "    </tr>\n",
       "    <tr>\n",
       "      <th>25%</th>\n",
       "      <td>0.340006</td>\n",
       "      <td>0.414812</td>\n",
       "      <td>0.407428</td>\n",
       "      <td>0.348002</td>\n",
       "    </tr>\n",
       "    <tr>\n",
       "      <th>50%</th>\n",
       "      <td>0.434891</td>\n",
       "      <td>0.501552</td>\n",
       "      <td>0.538642</td>\n",
       "      <td>0.466372</td>\n",
       "    </tr>\n",
       "    <tr>\n",
       "      <th>75%</th>\n",
       "      <td>0.517223</td>\n",
       "      <td>0.603977</td>\n",
       "      <td>0.647244</td>\n",
       "      <td>0.600610</td>\n",
       "    </tr>\n",
       "    <tr>\n",
       "      <th>max</th>\n",
       "      <td>0.817001</td>\n",
       "      <td>0.932466</td>\n",
       "      <td>1.000000</td>\n",
       "      <td>0.935721</td>\n",
       "    </tr>\n",
       "  </tbody>\n",
       "</table>\n",
       "</div>"
      ],
      "text/plain": [
       "       bone_length  rotting_flesh  hair_length    has_soul\n",
       "count   371.000000     371.000000   371.000000  371.000000\n",
       "mean      0.434160       0.506848     0.529114    0.471392\n",
       "std       0.132833       0.146358     0.169902    0.176129\n",
       "min       0.061032       0.095687     0.134600    0.009402\n",
       "25%       0.340006       0.414812     0.407428    0.348002\n",
       "50%       0.434891       0.501552     0.538642    0.466372\n",
       "75%       0.517223       0.603977     0.647244    0.600610\n",
       "max       0.817001       0.932466     1.000000    0.935721"
      ]
     },
     "execution_count": 7,
     "metadata": {},
     "output_type": "execute_result"
    }
   ],
   "source": [
    "train.describe()"
   ]
  },
  {
   "cell_type": "markdown",
   "metadata": {},
   "source": [
    "This data is relatively clean an there is no missing values (data count to be exactly 371 for all data fields). Moreover, continuous data fields (all data fields except *color* and *type*) are already normalized between 0 to 1. Doing these tasks takes around 50%-70% of the time in data science problems. Kaggle.com generally provides clean datasets so if one wants to learn data cleaning and munging, kaggle.com is not the right place."
   ]
  },
  {
   "cell_type": "code",
   "execution_count": 8,
   "metadata": {
    "scrolled": true
   },
   "outputs": [
    {
     "data": {
      "text/plain": [
       "array([[<matplotlib.axes._subplots.AxesSubplot object at 0x000000000A65BF28>,\n",
       "        <matplotlib.axes._subplots.AxesSubplot object at 0x000000000BCAC7B8>],\n",
       "       [<matplotlib.axes._subplots.AxesSubplot object at 0x000000000BB92160>,\n",
       "        <matplotlib.axes._subplots.AxesSubplot object at 0x000000000BBFBE10>]], dtype=object)"
      ]
     },
     "execution_count": 8,
     "metadata": {},
     "output_type": "execute_result"
    },
    {
     "data": {
      "image/png": "[encoded data removed]",
      "text/plain": [
       "<matplotlib.figure.Figure at 0xa65bba8>"
      ]
     },
     "metadata": {},
     "output_type": "display_data"
    }
   ],
   "source": [
    "train.hist(figsize=(12,10), bins =20)"
   ]
  },
  {
   "cell_type": "markdown",
   "metadata": {},
   "source": [
    "Note that the histograms of all continuous data fields have mean around 0.5 and it looks like data has been generated using truncated Gussian distributation with different standard deviations"
   ]
  },
  {
   "cell_type": "code",
   "execution_count": 9,
   "metadata": {},
   "outputs": [
    {
     "data": {
      "text/plain": [
       "<matplotlib.axes._subplots.AxesSubplot at 0xc71e6a0>"
      ]
     },
     "execution_count": 9,
     "metadata": {},
     "output_type": "execute_result"
    },
    {
     "data": {
      "image/png": "[encoded data removed]",
      "text/plain": [
       "<matplotlib.figure.Figure at 0xc4caa90>"
      ]
     },
     "metadata": {},
     "output_type": "display_data"
    }
   ],
   "source": [
    "f, axarr = plt.subplots(1, 2, figsize=(12,5))\n",
    "train[['color']].apply(pd.value_counts).plot.bar(ax = axarr[0])\n",
    "train[['type']].apply(pd.value_counts).plot.bar(ax = axarr[1])"
   ]
  },
  {
   "cell_type": "markdown",
   "metadata": {},
   "source": [
    "*color* data field has unequal number of records with *white* and *dear* have maximum occurrences whereas *blue* and *blood* have least. Classification would have been more easier/accurate with uniform nuumber of records. We are fortunate to have that for *type* data field with *Ghoul*, *Goublin* and *Ghost* have almost same number of occurances (around 120 each)."
   ]
  },
  {
   "cell_type": "markdown",
   "metadata": {},
   "source": [
    "Replacing textual data fileds *color* and *type* with binary dummies and generating new dataset *train_plot* for data analysis"
   ]
  },
  {
   "cell_type": "code",
   "execution_count": 10,
   "metadata": {},
   "outputs": [
    {
     "data": {
      "text/html": [
       "<div>\n",
       "<style>\n",
       "    .dataframe thead tr:only-child th {\n",
       "        text-align: right;\n",
       "    }\n",
       "\n",
       "    .dataframe thead th {\n",
       "        text-align: left;\n",
       "    }\n",
       "\n",
       "    .dataframe tbody tr th {\n",
       "        vertical-align: top;\n",
       "    }\n",
       "</style>\n",
       "<table border=\"1\" class=\"dataframe\">\n",
       "  <thead>\n",
       "    <tr style=\"text-align: right;\">\n",
       "      <th></th>\n",
       "      <th>bone_length</th>\n",
       "      <th>rotting_flesh</th>\n",
       "      <th>hair_length</th>\n",
       "      <th>has_soul</th>\n",
       "      <th>color_black</th>\n",
       "      <th>color_blood</th>\n",
       "      <th>color_blue</th>\n",
       "      <th>color_clear</th>\n",
       "      <th>color_green</th>\n",
       "      <th>color_white</th>\n",
       "      <th>type_Ghost</th>\n",
       "      <th>type_Ghoul</th>\n",
       "      <th>type_Goblin</th>\n",
       "    </tr>\n",
       "    <tr>\n",
       "      <th>id</th>\n",
       "      <th></th>\n",
       "      <th></th>\n",
       "      <th></th>\n",
       "      <th></th>\n",
       "      <th></th>\n",
       "      <th></th>\n",
       "      <th></th>\n",
       "      <th></th>\n",
       "      <th></th>\n",
       "      <th></th>\n",
       "      <th></th>\n",
       "      <th></th>\n",
       "      <th></th>\n",
       "    </tr>\n",
       "  </thead>\n",
       "  <tbody>\n",
       "    <tr>\n",
       "      <th>0</th>\n",
       "      <td>0.354512</td>\n",
       "      <td>0.350839</td>\n",
       "      <td>0.465761</td>\n",
       "      <td>0.781142</td>\n",
       "      <td>0</td>\n",
       "      <td>0</td>\n",
       "      <td>0</td>\n",
       "      <td>1</td>\n",
       "      <td>0</td>\n",
       "      <td>0</td>\n",
       "      <td>0</td>\n",
       "      <td>1</td>\n",
       "      <td>0</td>\n",
       "    </tr>\n",
       "    <tr>\n",
       "      <th>1</th>\n",
       "      <td>0.575560</td>\n",
       "      <td>0.425868</td>\n",
       "      <td>0.531401</td>\n",
       "      <td>0.439899</td>\n",
       "      <td>0</td>\n",
       "      <td>0</td>\n",
       "      <td>0</td>\n",
       "      <td>0</td>\n",
       "      <td>1</td>\n",
       "      <td>0</td>\n",
       "      <td>0</td>\n",
       "      <td>0</td>\n",
       "      <td>1</td>\n",
       "    </tr>\n",
       "    <tr>\n",
       "      <th>2</th>\n",
       "      <td>0.467875</td>\n",
       "      <td>0.354330</td>\n",
       "      <td>0.811616</td>\n",
       "      <td>0.791225</td>\n",
       "      <td>1</td>\n",
       "      <td>0</td>\n",
       "      <td>0</td>\n",
       "      <td>0</td>\n",
       "      <td>0</td>\n",
       "      <td>0</td>\n",
       "      <td>0</td>\n",
       "      <td>1</td>\n",
       "      <td>0</td>\n",
       "    </tr>\n",
       "    <tr>\n",
       "      <th>4</th>\n",
       "      <td>0.776652</td>\n",
       "      <td>0.508723</td>\n",
       "      <td>0.636766</td>\n",
       "      <td>0.884464</td>\n",
       "      <td>1</td>\n",
       "      <td>0</td>\n",
       "      <td>0</td>\n",
       "      <td>0</td>\n",
       "      <td>0</td>\n",
       "      <td>0</td>\n",
       "      <td>0</td>\n",
       "      <td>1</td>\n",
       "      <td>0</td>\n",
       "    </tr>\n",
       "    <tr>\n",
       "      <th>5</th>\n",
       "      <td>0.566117</td>\n",
       "      <td>0.875862</td>\n",
       "      <td>0.418594</td>\n",
       "      <td>0.636438</td>\n",
       "      <td>0</td>\n",
       "      <td>0</td>\n",
       "      <td>0</td>\n",
       "      <td>0</td>\n",
       "      <td>1</td>\n",
       "      <td>0</td>\n",
       "      <td>1</td>\n",
       "      <td>0</td>\n",
       "      <td>0</td>\n",
       "    </tr>\n",
       "  </tbody>\n",
       "</table>\n",
       "</div>"
      ],
      "text/plain": [
       "    bone_length  rotting_flesh  hair_length  has_soul  color_black  \\\n",
       "id                                                                   \n",
       "0      0.354512       0.350839     0.465761  0.781142            0   \n",
       "1      0.575560       0.425868     0.531401  0.439899            0   \n",
       "2      0.467875       0.354330     0.811616  0.791225            1   \n",
       "4      0.776652       0.508723     0.636766  0.884464            1   \n",
       "5      0.566117       0.875862     0.418594  0.636438            0   \n",
       "\n",
       "    color_blood  color_blue  color_clear  color_green  color_white  \\\n",
       "id                                                                   \n",
       "0             0           0            1            0            0   \n",
       "1             0           0            0            1            0   \n",
       "2             0           0            0            0            0   \n",
       "4             0           0            0            0            0   \n",
       "5             0           0            0            1            0   \n",
       "\n",
       "    type_Ghost  type_Ghoul  type_Goblin  \n",
       "id                                       \n",
       "0            0           1            0  \n",
       "1            0           0            1  \n",
       "2            0           1            0  \n",
       "4            0           1            0  \n",
       "5            1           0            0  "
      ]
     },
     "execution_count": 10,
     "metadata": {},
     "output_type": "execute_result"
    }
   ],
   "source": [
    "color_dummies = pd.get_dummies(train['color'], prefix='color')\n",
    "type_dummies = pd.get_dummies(train['type'], prefix='type')\n",
    "train_plot = pd.concat([train, color_dummies, type_dummies], axis=1)\n",
    "train_plot.drop(['color','type'], axis=1, inplace=True)\n",
    "train_plot.head()"
   ]
  },
  {
   "cell_type": "code",
   "execution_count": 11,
   "metadata": {},
   "outputs": [
    {
     "data": {
      "image/png": "[encoded data removed]",
      "text/plain": [
       "<matplotlib.figure.Figure at 0xc31bd68>"
      ]
     },
     "metadata": {},
     "output_type": "display_data"
    }
   ],
   "source": [
    "colormap = plt.cm.viridis\n",
    "plt.figure(figsize=(12,12))\n",
    "plt.title(\"Correlations of Basic Features\")\n",
    "sns.heatmap(train_plot.corr(), cmap=colormap, square=True, fmt='.1f',linewidths=0.1, linecolor='white', annot=True)\n",
    "plt.show()"
   ]
  },
  {
   "cell_type": "markdown",
   "metadata": {},
   "source": [
    "Observations from correlation plot:  \n",
    "a) *hair_length*, *has_soul* and *bone_length* will serve as excellent classifiers. *Ghost* tends to have shorter *hair_length* and *bone_length* with lower *has_soul*. *Ghoul* tends to have excatly oppisite of what *Ghost* has whereas *Goblin* shows no correlation with these features. It's clear from the correlation scores that the *has_soul* should be the single most important feature for classification followed by *hair_length* and *bone_length*.  \n",
    "b) *rotting_flesh* is relatively weakly correlated with *type*. However, the correlation is still meaningful for classification.  \n",
    "c) *color* feature doesn't show any correlation with *type* and hence it will be less significant in classification. So, the unequal records observed for the classes of *color* feature (as shown in the bar chart) wouldn't matter much."
   ]
  },
  {
   "cell_type": "markdown",
   "metadata": {},
   "source": [
    "# Part 2: Machine Learning"
   ]
  },
  {
   "cell_type": "markdown",
   "metadata": {},
   "source": [
    "Preparing feedable *train* and *test* data for classification using *scikit-learn*"
   ]
  },
  {
   "cell_type": "code",
   "execution_count": 12,
   "metadata": {},
   "outputs": [
    {
     "data": {
      "text/html": [
       "<div>\n",
       "<style>\n",
       "    .dataframe thead tr:only-child th {\n",
       "        text-align: right;\n",
       "    }\n",
       "\n",
       "    .dataframe thead th {\n",
       "        text-align: left;\n",
       "    }\n",
       "\n",
       "    .dataframe tbody tr th {\n",
       "        vertical-align: top;\n",
       "    }\n",
       "</style>\n",
       "<table border=\"1\" class=\"dataframe\">\n",
       "  <thead>\n",
       "    <tr style=\"text-align: right;\">\n",
       "      <th></th>\n",
       "      <th>bone_length</th>\n",
       "      <th>rotting_flesh</th>\n",
       "      <th>hair_length</th>\n",
       "      <th>has_soul</th>\n",
       "      <th>color_black</th>\n",
       "      <th>color_blood</th>\n",
       "      <th>color_blue</th>\n",
       "      <th>color_clear</th>\n",
       "      <th>color_green</th>\n",
       "      <th>color_white</th>\n",
       "    </tr>\n",
       "    <tr>\n",
       "      <th>id</th>\n",
       "      <th></th>\n",
       "      <th></th>\n",
       "      <th></th>\n",
       "      <th></th>\n",
       "      <th></th>\n",
       "      <th></th>\n",
       "      <th></th>\n",
       "      <th></th>\n",
       "      <th></th>\n",
       "      <th></th>\n",
       "    </tr>\n",
       "  </thead>\n",
       "  <tbody>\n",
       "    <tr>\n",
       "      <th>3</th>\n",
       "      <td>0.471774</td>\n",
       "      <td>0.387937</td>\n",
       "      <td>0.706087</td>\n",
       "      <td>0.698537</td>\n",
       "      <td>1</td>\n",
       "      <td>0</td>\n",
       "      <td>0</td>\n",
       "      <td>0</td>\n",
       "      <td>0</td>\n",
       "      <td>0</td>\n",
       "    </tr>\n",
       "    <tr>\n",
       "      <th>6</th>\n",
       "      <td>0.427332</td>\n",
       "      <td>0.645024</td>\n",
       "      <td>0.565558</td>\n",
       "      <td>0.451462</td>\n",
       "      <td>0</td>\n",
       "      <td>0</td>\n",
       "      <td>0</td>\n",
       "      <td>0</td>\n",
       "      <td>0</td>\n",
       "      <td>1</td>\n",
       "    </tr>\n",
       "    <tr>\n",
       "      <th>9</th>\n",
       "      <td>0.549602</td>\n",
       "      <td>0.491931</td>\n",
       "      <td>0.660387</td>\n",
       "      <td>0.449809</td>\n",
       "      <td>1</td>\n",
       "      <td>0</td>\n",
       "      <td>0</td>\n",
       "      <td>0</td>\n",
       "      <td>0</td>\n",
       "      <td>0</td>\n",
       "    </tr>\n",
       "    <tr>\n",
       "      <th>10</th>\n",
       "      <td>0.638095</td>\n",
       "      <td>0.682867</td>\n",
       "      <td>0.471409</td>\n",
       "      <td>0.356924</td>\n",
       "      <td>0</td>\n",
       "      <td>0</td>\n",
       "      <td>0</td>\n",
       "      <td>0</td>\n",
       "      <td>0</td>\n",
       "      <td>1</td>\n",
       "    </tr>\n",
       "    <tr>\n",
       "      <th>13</th>\n",
       "      <td>0.361762</td>\n",
       "      <td>0.583997</td>\n",
       "      <td>0.377256</td>\n",
       "      <td>0.276364</td>\n",
       "      <td>1</td>\n",
       "      <td>0</td>\n",
       "      <td>0</td>\n",
       "      <td>0</td>\n",
       "      <td>0</td>\n",
       "      <td>0</td>\n",
       "    </tr>\n",
       "  </tbody>\n",
       "</table>\n",
       "</div>"
      ],
      "text/plain": [
       "    bone_length  rotting_flesh  hair_length  has_soul  color_black  \\\n",
       "id                                                                   \n",
       "3      0.471774       0.387937     0.706087  0.698537            1   \n",
       "6      0.427332       0.645024     0.565558  0.451462            0   \n",
       "9      0.549602       0.491931     0.660387  0.449809            1   \n",
       "10     0.638095       0.682867     0.471409  0.356924            0   \n",
       "13     0.361762       0.583997     0.377256  0.276364            1   \n",
       "\n",
       "    color_blood  color_blue  color_clear  color_green  color_white  \n",
       "id                                                                  \n",
       "3             0           0            0            0            0  \n",
       "6             0           0            0            0            1  \n",
       "9             0           0            0            0            0  \n",
       "10            0           0            0            0            1  \n",
       "13            0           0            0            0            0  "
      ]
     },
     "execution_count": 12,
     "metadata": {},
     "output_type": "execute_result"
    }
   ],
   "source": [
    "features = ['bone_length', 'rotting_flesh', 'hair_length', 'has_soul', 'color']\n",
    "\n",
    "# train data (x = features, y = labels)\n",
    "X_train = train[features]\n",
    "color_dummies = pd.get_dummies(X_train['color'], prefix='color')\n",
    "X_train = pd.concat([X_train, color_dummies], axis=1)\n",
    "X_train.drop(['color'], axis=1, inplace=True)\n",
    "\n",
    "y_train = train['type']\n",
    "type_dict = dict(zip(y_train.unique(), range(len(y_train.unique()))))\n",
    "y_train = y_train.replace(to_replace = type_dict)\n",
    "\n",
    "# test data\n",
    "X_test = test[features]\n",
    "color_dummies = pd.get_dummies(X_test['color'], prefix='color')\n",
    "X_test = pd.concat([X_test, color_dummies], axis=1)\n",
    "X_test.drop(['color'], axis=1, inplace=True)\n",
    "\n",
    "\n",
    "X_test.head()"
   ]
  },
  {
   "cell_type": "markdown",
   "metadata": {},
   "source": [
    "I will first start with the most basic classifier: Gussian Naive Bayes. K-fold cross validation (CV) with different number of folds is performed. Note that mean score and stadard deviation both increase with the increase in CV folds."
   ]
  },
  {
   "cell_type": "code",
   "execution_count": 69,
   "metadata": {},
   "outputs": [
    {
     "name": "stdout",
     "output_type": "stream",
     "text": [
      "CV =  2 ; mean score =  0.649747151825 ; standard deviation =  0.0187311090444\n",
      "CV =  3 ; mean score =  0.641489640703 ; standard deviation =  0.0204249980228\n",
      "CV =  5 ; mean score =  0.638926323584 ; standard deviation =  0.0475169968036\n",
      "CV =  7 ; mean score =  0.640988486993 ; standard deviation =  0.0638596851142\n",
      "CV =  10 ; mean score =  0.65453397006 ; standard deviation =  0.0860872413607\n",
      "CV =  15 ; mean score =  0.674367521368 ; standard deviation =  0.0873031221384\n",
      "CV =  25 ; mean score =  0.672857142857 ; standard deviation =  0.102777057667\n"
     ]
    }
   ],
   "source": [
    "from sklearn.naive_bayes import GaussianNB\n",
    "from sklearn.model_selection import cross_val_score\n",
    "\n",
    "clf = GaussianNB()\n",
    "cv_matrix = [2, 3, 5, 7, 10, 15, 25]\n",
    "\n",
    "for cv in cv_matrix:\n",
    "    scores = cross_val_score(clf, X_train, y_train, cv=cv)\n",
    "    mean_score = np.mean(scores)\n",
    "    std_score = np.std(scores)\n",
    "    print('CV = ', cv, '; mean score = ', mean_score, '; standard deviation = ', std_score)\n",
    "    "
   ]
  },
  {
   "cell_type": "markdown",
   "metadata": {},
   "source": [
    "Logistic Regression classifier with cross validation (cv=10) and hyperparameter optimization"
   ]
  },
  {
   "cell_type": "code",
   "execution_count": 48,
   "metadata": {},
   "outputs": [
    {
     "name": "stdout",
     "output_type": "stream",
     "text": [
      "Mean score matrix:  [ 0.71428571  0.71967655  0.71698113  0.71698113]\n",
      "Grid best parameter (max. accuracy):  {'C': 100}\n",
      "Grid best score (accuracy):  0.719676549865\n"
     ]
    }
   ],
   "source": [
    "from sklearn.linear_model import LogisticRegression\n",
    "from sklearn.model_selection import GridSearchCV\n",
    "\n",
    "grid_values = {'C': [10, 100, 1000, 10000]}\n",
    "grid_clf_acc = GridSearchCV(LogisticRegression(), param_grid = grid_values, cv=10, scoring = 'accuracy')\n",
    "grid_clf_acc.fit(X_train, y_train)\n",
    "\n",
    "print('Mean score matrix: ', grid_clf_acc.cv_results_['mean_test_score'])\n",
    "print('Grid best parameter (max. accuracy): ', grid_clf_acc.best_params_)\n",
    "print('Grid best score (accuracy): ', grid_clf_acc.best_score_)"
   ]
  },
  {
   "cell_type": "markdown",
   "metadata": {},
   "source": [
    "Support Vector classifier with cross validation (cv=10) and hyperparameter optimization"
   ]
  },
  {
   "cell_type": "code",
   "execution_count": 49,
   "metadata": {},
   "outputs": [
    {
     "name": "stdout",
     "output_type": "stream",
     "text": [
      "Mean score matrix:  [ 0.6819407   0.69811321  0.70350404  0.73045822  0.71967655  0.67924528\n",
      "  0.69541779  0.70889488  0.73045822  0.72506739  0.67654987  0.70080863\n",
      "  0.70889488  0.73584906  0.72506739  0.68463612  0.69541779  0.71428571\n",
      "  0.73315364  0.7277628   0.66846361  0.69272237  0.71698113  0.73045822\n",
      "  0.71698113]\n",
      "Grid best parameter (max. accuracy):  {'C': 120, 'gamma': 0.02}\n",
      "Grid best score (accuracy):  0.735849056604\n"
     ]
    }
   ],
   "source": [
    "from sklearn.svm import SVC\n",
    "\n",
    "grid_values = {'C': [110, 115, 120, 125, 150], 'gamma': [0.001, 0.006,  0.01, 0.02, 0.1]}\n",
    "grid_clf_acc = GridSearchCV(SVC(), param_grid = grid_values, cv=10, scoring = 'accuracy')\n",
    "grid_clf_acc.fit(X_train, y_train)\n",
    "\n",
    "print('Mean score matrix: ', grid_clf_acc.cv_results_['mean_test_score'])\n",
    "print('Grid best parameter (max. accuracy): ', grid_clf_acc.best_params_)\n",
    "print('Grid best score (accuracy): ', grid_clf_acc.best_score_)"
   ]
  },
  {
   "cell_type": "markdown",
   "metadata": {},
   "source": [
    "Random Forest classifier with cross validation (cv=10) and hyperparameter optimization"
   ]
  },
  {
   "cell_type": "code",
   "execution_count": 71,
   "metadata": {},
   "outputs": [
    {
     "name": "stdout",
     "output_type": "stream",
     "text": [
      "Mean score matrix:  [ 0.68733154  0.67924528  0.65498652  0.64150943  0.68733154  0.67924528\n",
      "  0.65498652  0.64150943  0.68733154  0.67924528  0.65498652  0.64150943\n",
      "  0.69811321  0.70080863  0.71698113  0.66037736  0.69811321  0.70080863\n",
      "  0.71698113  0.66037736  0.69811321  0.70080863  0.71698113  0.66037736\n",
      "  0.68733154  0.70080863  0.70080863  0.63342318  0.68733154  0.70080863\n",
      "  0.70080863  0.63342318  0.68733154  0.70080863  0.70080863  0.63342318\n",
      "  0.69541779  0.68733154  0.69541779  0.66037736  0.69541779  0.68733154\n",
      "  0.69541779  0.66037736  0.69541779  0.68733154  0.69541779  0.66037736\n",
      "  0.67924528  0.6819407   0.68463612  0.63881402  0.67924528  0.6819407\n",
      "  0.68463612  0.63881402  0.67924528  0.6819407   0.68463612  0.63881402\n",
      "  0.70350404  0.70619946  0.69541779  0.67924528  0.70350404  0.70619946\n",
      "  0.69541779  0.67924528  0.70350404  0.70619946  0.69541779  0.67924528\n",
      "  0.69811321  0.70350404  0.67115903  0.65768194  0.69811321  0.70350404\n",
      "  0.67115903  0.65768194  0.69811321  0.70350404  0.67115903  0.65768194\n",
      "  0.70080863  0.70080863  0.68463612  0.64420485  0.70080863  0.70080863\n",
      "  0.68463612  0.64420485  0.70080863  0.70080863  0.68463612  0.64420485]\n",
      "Grid best parameter (max. accuracy):  {'bootstrap': True, 'max_depth': 6, 'max_features': 'sqrt', 'n_estimators': 10}\n",
      "Grid best score (accuracy):  0.716981132075\n"
     ]
    }
   ],
   "source": [
    "from sklearn.ensemble import RandomForestClassifier\n",
    "from sklearn.feature_selection import SelectFromModel\n",
    "\n",
    "grid_values = {'max_depth' : [4, 6, 8, 10], 'n_estimators': [100, 50, 10, 5], \n",
    "               'max_features': ['sqrt', 'auto', 'log2'], 'bootstrap': [True, False]}\n",
    "grid_clf_acc = GridSearchCV(RandomForestClassifier(random_state=0), param_grid = grid_values, cv=10, scoring = 'accuracy')\n",
    "grid_clf_acc.fit(X_train, y_train)\n",
    "\n",
    "print('Mean score matrix: ', grid_clf_acc.cv_results_['mean_test_score'])\n",
    "print('Grid best parameter (max. accuracy): ', grid_clf_acc.best_params_)\n",
    "print('Grid best score (accuracy): ', grid_clf_acc.best_score_)"
   ]
  },
  {
   "cell_type": "markdown",
   "metadata": {},
   "source": [
    "Finding relative importance of the features for classification using random forests. As predicted using the correlation plot, *has_soul*, *hair_length* and *bone_length* are the most important features (in decreasing order of importance) whereas *color* is the least important."
   ]
  },
  {
   "cell_type": "code",
   "execution_count": 78,
   "metadata": {},
   "outputs": [
    {
     "data": {
      "text/plain": [
       "<matplotlib.axes._subplots.AxesSubplot at 0xcb6cda0>"
      ]
     },
     "execution_count": 78,
     "metadata": {},
     "output_type": "execute_result"
    },
    {
     "data": {
      "image/png": "[encoded data removed]",
      "text/plain": [
       "<matplotlib.figure.Figure at 0xc80a748>"
      ]
     },
     "metadata": {},
     "output_type": "display_data"
    }
   ],
   "source": [
    "clf = RandomForestClassifier(n_estimators=10, max_depth=6, max_features='sqrt', bootstrap=True, random_state=0)\n",
    "clf.fit(X_train, y_train)\n",
    "\n",
    "feature_imp = pd.DataFrame()\n",
    "feature_imp['feature'] = X_train.columns\n",
    "feature_imp['importance'] = clf.feature_importances_\n",
    "feature_imp.sort_values(by=['importance'], ascending=True, inplace=True)\n",
    "feature_imp.set_index('feature', inplace=True)\n",
    "feature_imp.plot(kind='barh', figsize=(10, 10))"
   ]
  },
  {
   "cell_type": "code",
   "execution_count": null,
   "metadata": {
    "collapsed": true
   },
   "outputs": [],
   "source": []
  }
 ],
 "metadata": {
  "kernelspec": {
   "display_name": "Python 3",
   "language": "python",
   "name": "python3"
  },
  "language_info": {
   "codemirror_mode": {
    "name": "ipython",
    "version": 3
   },
   "file_extension": ".py",
   "mimetype": "text/x-python",
   "name": "python",
   "nbconvert_exporter": "python",
   "pygments_lexer": "ipython3",
   "version": "3.6.1"
  }
 },
 "nbformat": 4,
 "nbformat_minor": 2
}
